{
 "cells": [
  {
   "cell_type": "code",
   "execution_count": 7,
   "id": "502bf10f-3125-4340-82ec-16eeb255c819",
   "metadata": {},
   "outputs": [],
   "source": [
    "import os\n",
    "import numpy as np\n",
    "import json\n",
    "from PIL import Image"
   ]
  },
  {
   "cell_type": "code",
   "execution_count": 8,
   "id": "e8458b34-ce2b-4a12-98ed-724f0ee8caee",
   "metadata": {},
   "outputs": [],
   "source": [
    "# Absolute paths (adjust to your environment)\n",
    "RAW_DATA_DIR = r\"/Users/mokshdutt/developer/P&ID/data/raw/paliwal_dataset\"\n",
    "PROCESSED_ANN_DIR = r\"/Users/mokshdutt/developer/P&ID/data/processed/annotations\"\n",
    "COCO_ANN_FILE = \"paliwal_coco.json\""
   ]
  },
  {
   "cell_type": "code",
   "execution_count": 9,
   "id": "38ecb0b2-ab4b-48cf-a214-6efefea12cc1",
   "metadata": {},
   "outputs": [],
   "source": [
    "# Verify paths\n",
    "if not os.path.exists(RAW_DATA_DIR):\n",
    "    raise FileNotFoundError(f\"RAW_DATA_DIR not found: {RAW_DATA_DIR}\")\n",
    "if not os.path.exists(PROCESSED_ANN_DIR):\n",
    "    os.makedirs(PROCESSED_ANN_DIR)\n"
   ]
  },
  {
   "cell_type": "code",
   "execution_count": 10,
   "id": "0d279a4e-a99e-4465-92ea-e925406b26ab",
   "metadata": {},
   "outputs": [],
   "source": [
    "def get_categories():\n",
    "    \"\"\"Define your symbol categories here. Example:\"\"\"\n",
    "    return [\n",
    "        {\"id\": 1, \"name\": \"valve\"},\n",
    "        {\"id\": 2, \"name\": \"pump\"},\n",
    "        {\"id\": 3, \"name\": \"tank\"},\n",
    "        {\"id\": 4, \"name\": \"instrument\"},\n",
    "        # Add all classes present in your dataset\n",
    "    ]"
   ]
  },
  {
   "cell_type": "code",
   "execution_count": 11,
   "id": "bdccc686-4b36-4241-b941-3e69cc18b7f5",
   "metadata": {},
   "outputs": [],
   "source": [
    "def convert_to_coco():\n",
    "    coco_data = {\n",
    "        \"images\": [],\n",
    "        \"annotations\": [],\n",
    "        \"categories\": get_categories()\n",
    "    }\n",
    "    \n",
    "    annotation_id = 1\n",
    "    image_ids = [d for d in os.listdir(RAW_DATA_DIR) if d.isdigit()]\n",
    "    \n",
    "    for img_id in image_ids:\n",
    "        img_id = int(img_id)\n",
    "        img_folder = os.path.join(RAW_DATA_DIR, str(img_id))\n",
    "        img_path = os.path.join(RAW_DATA_DIR, \"Images\", f\"{img_id}.jpg\")\n",
    "        \n",
    "        # Skip missing images/annotations\n",
    "        if not os.path.exists(img_path) or not os.path.exists(img_folder):\n",
    "            continue\n",
    "            \n",
    "        # Load image dimensions\n",
    "        with Image.open(img_path) as img:\n",
    "            width, height = img.size\n",
    "        \n",
    "        # Add image entry\n",
    "        coco_data[\"images\"].append({\n",
    "            \"id\": img_id,\n",
    "            \"file_name\": f\"{img_id}.jpg\",\n",
    "            \"width\": width,\n",
    "            \"height\": height\n",
    "        })\n",
    "        \n",
    "        # Process symbols.npy\n",
    "        symbols = np.load(os.path.join(img_folder, f\"{img_id}_symbols.npy\"), allow_pickle=True)\n",
    "        # In convert_to_coco() function:\n",
    "        for symbol in symbols:\n",
    "            symbol_id, bbox, class_id = symbol\n",
    "            x1, y1, x2, y2 = bbox\n",
    "    \n",
    "            # Calculate width and height from bbox\n",
    "            width_box = float(x2 - x1)\n",
    "            height_box = float(y2 - y1)\n",
    "    \n",
    "            coco_data[\"annotations\"].append({\n",
    "                \"id\": annotation_id,\n",
    "                \"image_id\": img_id,\n",
    "                \"category_id\": int(class_id),\n",
    "                \"bbox\": [float(x1), float(y1), width_box, height_box],  # Use calculated values\n",
    "                \"area\": width_box * height_box,\n",
    "                \"iscrowd\": 0\n",
    "            })\n",
    "            annotation_id += 1\n",
    "    \n",
    "    # Save COCO JSON\n",
    "    output_path = os.path.join(PROCESSED_ANN_DIR, COCO_ANN_FILE)\n",
    "    with open(output_path, \"w\") as f:\n",
    "        json.dump(coco_data, f, indent=2)\n",
    "    print(f\"COCO annotations saved to {output_path} (total: {len(coco_data['annotations'])} objects)\")"
   ]
  },
  {
   "cell_type": "code",
   "execution_count": 12,
   "id": "8698f43e-b509-49d6-8cd7-9deb467fe9a0",
   "metadata": {},
   "outputs": [
    {
     "name": "stdout",
     "output_type": "stream",
     "text": [
      "COCO annotations saved to /Users/mokshdutt/developer/P&ID/data/processed/annotations/paliwal_coco.json (total: 59498 objects)\n"
     ]
    }
   ],
   "source": [
    "if __name__ == \"__main__\":\n",
    "    convert_to_coco()"
   ]
  }
 ],
 "metadata": {
  "kernelspec": {
   "display_name": "Python 3 (ipykernel)",
   "language": "python",
   "name": "python3"
  },
  "language_info": {
   "codemirror_mode": {
    "name": "ipython",
    "version": 3
   },
   "file_extension": ".py",
   "mimetype": "text/x-python",
   "name": "python",
   "nbconvert_exporter": "python",
   "pygments_lexer": "ipython3",
   "version": "3.11.13"
  }
 },
 "nbformat": 4,
 "nbformat_minor": 5
}
