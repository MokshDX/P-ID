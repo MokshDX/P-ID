{
 "cells": [
  {
   "cell_type": "code",
   "execution_count": 1,
   "id": "e3c7e284-d32d-4c84-8cde-b18936dd6510",
   "metadata": {},
   "outputs": [],
   "source": [
    "import torch\n",
    "from torch.utils.data import Dataset, DataLoader\n",
    "from PIL import Image\n",
    "import json\n",
    "import os"
   ]
  },
  {
   "cell_type": "code",
   "execution_count": 2,
   "id": "caafd354-ff70-4d3b-9d08-a9f71073e791",
   "metadata": {},
   "outputs": [],
   "source": [
    "class CocoDetectionDataset(Dataset):\n",
    "    def __init__(self, root, annFile, transforms=None):\n",
    "        self.root = root\n",
    "        self.transforms = transforms\n",
    "        with open(annFile, 'r') as f:\n",
    "            self.coco = json.load(f)\n",
    "        self.imgs = self.coco['images']\n",
    "        self.anns = self.coco['annotations']\n",
    "        self.img_id_to_anns = {}\n",
    "        for ann in self.anns:\n",
    "            self.img_id_to_anns.setdefault(ann['image_id'], []).append(ann)\n",
    "\n",
    "    def __len__(self):\n",
    "        return len(self.imgs)\n",
    "\n",
    "    def __getitem__(self, idx):\n",
    "        img_info = self.imgs[idx]\n",
    "        img_path = os.path.join(self.root, img_info['file_name'])\n",
    "        img = Image.open(img_path).convert(\"RGB\")\n",
    "\n",
    "        annots = self.img_id_to_anns.get(img_info['id'], [])\n",
    "        boxes = []\n",
    "        labels = []\n",
    "        for ann in annots:\n",
    "            boxes.append(ann['bbox'])  # COCO bbox format: [x, y, width, height]\n",
    "            labels.append(ann['category_id'])\n",
    "\n",
    "        boxes = torch.as_tensor(boxes, dtype=torch.float32)\n",
    "        labels = torch.as_tensor(labels, dtype=torch.int64)\n",
    "\n",
    "        target = {}\n",
    "        target['boxes'] = boxes\n",
    "        target['labels'] = labels\n",
    "        target['image_id'] = torch.tensor([img_info['id']])\n",
    "\n",
    "        if self.transforms:\n",
    "            img, target = self.transforms(img, target)\n",
    "\n",
    "        return img, target"
   ]
  }
 ],
 "metadata": {
  "kernelspec": {
   "display_name": "Python 3 (ipykernel)",
   "language": "python",
   "name": "python3"
  },
  "language_info": {
   "codemirror_mode": {
    "name": "ipython",
    "version": 3
   },
   "file_extension": ".py",
   "mimetype": "text/x-python",
   "name": "python",
   "nbconvert_exporter": "python",
   "pygments_lexer": "ipython3",
   "version": "3.11.13"
  }
 },
 "nbformat": 4,
 "nbformat_minor": 5
}
